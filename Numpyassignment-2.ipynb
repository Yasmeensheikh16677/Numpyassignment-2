{
 "cells": [
  {
   "cell_type": "code",
   "execution_count": null,
   "id": "818dc45a-0ddb-43c7-b665-ad45e3865336",
   "metadata": {},
   "outputs": [],
   "source": [
    "#1. Create a NumPy array 'arr' of integers from 0 to 5 and print its data type."
   ]
  },
  {
   "cell_type": "code",
   "execution_count": 1,
   "id": "482b986a-d5c0-4d38-a2b1-954edd1318dc",
   "metadata": {},
   "outputs": [
    {
     "name": "stdout",
     "output_type": "stream",
     "text": [
      "Datatype: int64\n"
     ]
    }
   ],
   "source": [
    "import numpy as np\n",
    "l=[0,1,2,3,4,5]\n",
    "arr=np.array(l)\n",
    "arr\n",
    "print(\"Datatype:\",arr.dtype)"
   ]
  },
  {
   "cell_type": "code",
   "execution_count": 2,
   "id": "9a76eceb-7d5b-47b7-b6b3-a8e1437dfcc1",
   "metadata": {},
   "outputs": [],
   "source": [
    "#2. Given a NumPy array 'arr', check if its data type is float64."
   ]
  },
  {
   "cell_type": "code",
   "execution_count": 3,
   "id": "9f79736c-2365-4fb3-9d92-2508b35a3759",
   "metadata": {},
   "outputs": [
    {
     "name": "stdout",
     "output_type": "stream",
     "text": [
      "array [1.5 2.6 3.7]\n",
      "Datatype: float64\n"
     ]
    },
    {
     "data": {
      "text/plain": [
       "dtype('float64')"
      ]
     },
     "execution_count": 3,
     "metadata": {},
     "output_type": "execute_result"
    }
   ],
   "source": [
    "arr = np.array([1.5, 2.6, 3.7])\n",
    "print(\"array\",arr)\n",
    "print(\"Datatype:\",arr.dtype)\n",
    "arr.dtype"
   ]
  },
  {
   "cell_type": "code",
   "execution_count": 4,
   "id": "af8bb7f5-8b22-4ebb-8806-91a2e5f5e5c2",
   "metadata": {},
   "outputs": [],
   "source": [
    "#3.. Create a NumPy array 'arr' with a data type of complex128 containing three complex numbers."
   ]
  },
  {
   "cell_type": "code",
   "execution_count": 5,
   "id": "2df95c84-c4f2-4cb3-b899-891ea04bfabe",
   "metadata": {},
   "outputs": [
    {
     "name": "stdout",
     "output_type": "stream",
     "text": [
      "[ 3.+4.j  5.+7.j -2.-1.j]\n"
     ]
    },
    {
     "data": {
      "text/plain": [
       "dtype('complex128')"
      ]
     },
     "execution_count": 5,
     "metadata": {},
     "output_type": "execute_result"
    }
   ],
   "source": [
    "complex_list = [3 + 4j, 5 + 7j, -2 - 1j]\n",
    "np_array = np.array(complex_list)\n",
    "print(np_array)\n",
    "np_array.dtype"
   ]
  },
  {
   "cell_type": "code",
   "execution_count": 6,
   "id": "475e0ecf-4739-43d8-8860-fffb12a50b98",
   "metadata": {},
   "outputs": [],
   "source": [
    "#4.Convert an existing NumPy array 'arr' of integers to float32 data type"
   ]
  },
  {
   "cell_type": "code",
   "execution_count": 7,
   "id": "a3ca9a55-b90c-4999-844f-de0e9ac3e5c7",
   "metadata": {},
   "outputs": [
    {
     "name": "stdout",
     "output_type": "stream",
     "text": [
      "Datatype of arr: int64\n",
      "Datatype of new arr: float32\n"
     ]
    }
   ],
   "source": [
    "import numpy as np\n",
    "arr=np.array([1,4,5,6,7,8])\n",
    "print(\"Datatype of arr:\", arr.dtype)\n",
    "arr=arr.astype('float32')\n",
    "print(\"Datatype of new arr:\", arr.dtype)"
   ]
  },
  {
   "cell_type": "code",
   "execution_count": 8,
   "id": "f705bfc9-d447-427f-8519-b06f70e089b5",
   "metadata": {},
   "outputs": [],
   "source": [
    " #5.Given a NumPy array 'arr' with float64 data type, convert it to float32 to reduce decimal precision."
   ]
  },
  {
   "cell_type": "code",
   "execution_count": 9,
   "id": "b9187e35-e658-4c41-81bc-b130909a4b5d",
   "metadata": {},
   "outputs": [
    {
     "name": "stdout",
     "output_type": "stream",
     "text": [
      "Array: [500.   34.2  67.2  23.   87.1]\n",
      "Datatype of arr: float64\n",
      "Datatype of arr after conversion: float32\n"
     ]
    }
   ],
   "source": [
    "arr=np.array([500.0,34.2,67.2,23.0,87.1])\n",
    "print(\"Array:\",arr)\n",
    "print (\"Datatype of arr:\", arr.dtype)\n",
    "arr=arr.astype('float32')\n",
    "print(\"Datatype of arr after conversion:\", arr.dtype)"
   ]
  },
  {
   "cell_type": "code",
   "execution_count": 10,
   "id": "23ded4a2-4325-4927-b68f-b004b581b881",
   "metadata": {},
   "outputs": [],
   "source": [
    "#6. Write a function array_attributes that takes a NumPy array as input and returns its shape, size, and datatype."
   ]
  },
  {
   "cell_type": "code",
   "execution_count": 11,
   "id": "613ed333-8ce5-499a-9da2-bbd081c77366",
   "metadata": {},
   "outputs": [
    {
     "name": "stdout",
     "output_type": "stream",
     "text": [
      "array_attributes: [[2 4 5]\n",
      " [6 7 8]]\n",
      "Shape of array: (2, 3)\n",
      "Size of array: 6\n",
      "Datatype of array: int64\n"
     ]
    }
   ],
   "source": [
    "array_attributes=np.array([[2,4,5],[6,7,8]])\n",
    "print(\"array_attributes:\",array_attributes)\n",
    "#Shape of array\n",
    "print(\"Shape of array:\", array_attributes.shape)\n",
    "print(\"Size of array:\", array_attributes.size)\n",
    "print(\"Datatype of array:\", array_attributes.dtype)"
   ]
  },
  {
   "cell_type": "code",
   "execution_count": 12,
   "id": "4bd9a947-da17-4951-b096-90ac9d1b1b04",
   "metadata": {},
   "outputs": [],
   "source": [
    " #7.Create a function array_dimension that takes a NumPy array as input and returns its dimensionality."
   ]
  },
  {
   "cell_type": "code",
   "execution_count": 13,
   "id": "d7c40e55-f536-4abc-91c2-e02b02d2e5d4",
   "metadata": {},
   "outputs": [
    {
     "name": "stdout",
     "output_type": "stream",
     "text": [
      "Array: [[2 4 5]\n",
      " [6 7 8]]\n",
      "Array dimension: 2\n"
     ]
    }
   ],
   "source": [
    "arr=np.array([[2,4,5],[6,7,8]])\n",
    "print(\"Array:\",arr)\n",
    "print(\"Array dimension:\",arr.ndim)"
   ]
  },
  {
   "cell_type": "code",
   "execution_count": 14,
   "id": "229aec8e-7fae-48e0-9cf5-b792c6d297cc",
   "metadata": {},
   "outputs": [],
   "source": [
    "#8.Design a function item_size_info that takes a NumPy array as input and returns the item size and the total size in bytes."
   ]
  },
  {
   "cell_type": "code",
   "execution_count": 15,
   "id": "897534cd-795d-48ef-8c6a-58079922ecd3",
   "metadata": {},
   "outputs": [
    {
     "name": "stdout",
     "output_type": "stream",
     "text": [
      "Item_size: 6\n",
      "Size of each byte: 8\n",
      "Total size in bytes: 48\n"
     ]
    }
   ],
   "source": [
    "arr=np.array([[2,4,5],[6,7,8]])\n",
    "print(\"Item_size:\",arr.size)\n",
    "print(\"Size of each byte:\",arr.itemsize)\n",
    "print(\"Total size in bytes:\",((arr.size)*(arr.itemsize)))"
   ]
  },
  {
   "cell_type": "code",
   "execution_count": 16,
   "id": "e259fbd6-c1da-4df3-ae6b-38bcb3462050",
   "metadata": {},
   "outputs": [],
   "source": [
    "#9. Create a function array_strides that takes a NumPy array as input and returns the strides of the array."
   ]
  },
  {
   "cell_type": "code",
   "execution_count": 17,
   "id": "1360b22d-0ad7-4b76-a0ef-9b3ca9ddd186",
   "metadata": {},
   "outputs": [
    {
     "data": {
      "text/plain": [
       "(24, 8)"
      ]
     },
     "execution_count": 17,
     "metadata": {},
     "output_type": "execute_result"
    }
   ],
   "source": [
    "arr=np.array([[2,4,5],[6,7,8]])\n",
    "arr.strides"
   ]
  },
  {
   "cell_type": "code",
   "execution_count": 18,
   "id": "50ca4519-cbd4-4252-a66a-d6f80764c19b",
   "metadata": {},
   "outputs": [],
   "source": [
    "#10.Design a function shape_stride_relationship that takes a NumPy array as input and returns the shape and strides of the array."
   ]
  },
  {
   "cell_type": "code",
   "execution_count": 19,
   "id": "1642472a-3738-4484-8b06-8f2d3800f076",
   "metadata": {},
   "outputs": [],
   "source": [
    "arr=np.array([[2,4,5],[6,7,8]])\n",
    "d=arr.strides"
   ]
  },
  {
   "cell_type": "code",
   "execution_count": 20,
   "id": "aaae90c0-0db9-43e7-8c1b-371d2c58eda6",
   "metadata": {},
   "outputs": [],
   "source": [
    "#11.Create a function `create_zeros_array` that takes an integer `n` as input and returns a NumPy array of z"
   ]
  },
  {
   "cell_type": "code",
   "execution_count": 21,
   "id": "926737d3-48f6-49b5-b3cb-7d80270d3510",
   "metadata": {},
   "outputs": [
    {
     "name": "stdin",
     "output_type": "stream",
     "text": [
      "Enter a number of your choice: 5\n"
     ]
    },
    {
     "data": {
      "text/plain": [
       "array([0., 0., 0., 0., 0.])"
      ]
     },
     "execution_count": 21,
     "metadata": {},
     "output_type": "execute_result"
    }
   ],
   "source": [
    "n=int(input(\"Enter a number of your choice:\"))\n",
    "arr=np.zeros(n)\n",
    "arr"
   ]
  },
  {
   "cell_type": "code",
   "execution_count": 22,
   "id": "a24bd80a-4247-4df9-8e10-6fc721d0d290",
   "metadata": {},
   "outputs": [],
   "source": [
    "#12.Write a function `create_ones_matrix` that takes integers `rows` and `cols` as inputs and generates a 2D NumPy array filled with ones of size `rows x cols`."
   ]
  },
  {
   "cell_type": "code",
   "execution_count": 23,
   "id": "00443ad8-7391-4b42-9707-38a1a86df92e",
   "metadata": {},
   "outputs": [
    {
     "name": "stdin",
     "output_type": "stream",
     "text": [
      "Enter rows: 8\n",
      "Enter cols: 6\n"
     ]
    },
    {
     "data": {
      "text/plain": [
       "array([[1., 1., 1., 1., 1., 1.],\n",
       "       [1., 1., 1., 1., 1., 1.],\n",
       "       [1., 1., 1., 1., 1., 1.],\n",
       "       [1., 1., 1., 1., 1., 1.],\n",
       "       [1., 1., 1., 1., 1., 1.],\n",
       "       [1., 1., 1., 1., 1., 1.],\n",
       "       [1., 1., 1., 1., 1., 1.],\n",
       "       [1., 1., 1., 1., 1., 1.]])"
      ]
     },
     "execution_count": 23,
     "metadata": {},
     "output_type": "execute_result"
    }
   ],
   "source": [
    "rows=int(input(\"Enter rows:\"))\n",
    "cols=int(input(\"Enter cols:\"))\n",
    "np.ones((rows,cols))"
   ]
  },
  {
   "cell_type": "code",
   "execution_count": 24,
   "id": "83449f80-0ff5-4c9b-918d-41d56d35cd13",
   "metadata": {},
   "outputs": [],
   "source": [
    "#13.Write a function `generate_range_array` that takes three integers start, stop, and step as arguments and creates a NumPy array with a range starting from `start`, ending at stop (exclusive), and with the specified `step`."
   ]
  },
  {
   "cell_type": "code",
   "execution_count": 25,
   "id": "48304f12-b47c-4ee6-a195-d341d4505546",
   "metadata": {},
   "outputs": [
    {
     "name": "stdout",
     "output_type": "stream",
     "text": [
      "generate_range_array: [ 1  4  7 10 13 16 19]\n"
     ]
    }
   ],
   "source": [
    "import numpy as np\n",
    "generate_range_array=np.arange(1,20,3)\n",
    "print(\"generate_range_array:\", generate_range_array)"
   ]
  },
  {
   "cell_type": "code",
   "execution_count": 26,
   "id": "24f949b1-6708-463b-8fb3-267e6d575aa4",
   "metadata": {},
   "outputs": [],
   "source": [
    "#14. Design a function `generate_linear_space` that takes two floats `start`, `stop`, and an integer `num` as arguments and generates a NumPy array with num equally spaced values between `start` and `stop` (inclusive)."
   ]
  },
  {
   "cell_type": "code",
   "execution_count": 27,
   "id": "d327b91a-9fdd-4a9d-beac-b70d2807778f",
   "metadata": {},
   "outputs": [
    {
     "data": {
      "text/plain": [
       "array([ 1.  ,  5.75, 10.5 , 15.25, 20.  ])"
      ]
     },
     "execution_count": 27,
     "metadata": {},
     "output_type": "execute_result"
    }
   ],
   "source": [
    "import numpy as np\n",
    "\n",
    "def generate_linear_space(start, stop, num):\n",
    "    return np.linspace(start, stop, num)\n",
    "generate_linear_space(1.0,20.0,5)"
   ]
  },
  {
   "cell_type": "code",
   "execution_count": 28,
   "id": "6481ccb3-43d0-4eb6-b450-1a1fc50a9199",
   "metadata": {},
   "outputs": [],
   "source": [
    "#15.Create a function `create_identity_matrix` that takes an integer `n` as input and generates a square identity matrix of size `n x n` using `numpy.eye`."
   ]
  },
  {
   "cell_type": "code",
   "execution_count": 29,
   "id": "cddab0a5-dda9-4396-8d3e-42c42b8c59ec",
   "metadata": {},
   "outputs": [
    {
     "name": "stdin",
     "output_type": "stream",
     "text": [
      "Please enter a number: 5\n"
     ]
    },
    {
     "data": {
      "text/plain": [
       "array([[1., 0., 0., 0., 0.],\n",
       "       [0., 1., 0., 0., 0.],\n",
       "       [0., 0., 1., 0., 0.],\n",
       "       [0., 0., 0., 1., 0.],\n",
       "       [0., 0., 0., 0., 1.]])"
      ]
     },
     "execution_count": 29,
     "metadata": {},
     "output_type": "execute_result"
    }
   ],
   "source": [
    "n=int(input(\"Please enter a number:\"))\n",
    "np.eye(n)"
   ]
  },
  {
   "cell_type": "code",
   "execution_count": 30,
   "id": "b5688178-04c9-44cc-bc91-716ac6233be8",
   "metadata": {},
   "outputs": [],
   "source": [
    "#16.Write a function that takes a Python list and converts it into a NumPy array."
   ]
  },
  {
   "cell_type": "code",
   "execution_count": 31,
   "id": "20a81408-b7c5-4f5e-82b6-971a773ffcfb",
   "metadata": {},
   "outputs": [
    {
     "name": "stdout",
     "output_type": "stream",
     "text": [
      "Type of 'l': <class 'list'>\n",
      "Numpy array: [2 3 4 8 5 6]\n"
     ]
    }
   ],
   "source": [
    "l=[2,3,4,8,5,6]\n",
    "print(\"Type of 'l':\", type(l))\n",
    "arr=np.array(l)\n",
    "print(\"Numpy array:\", arr)"
   ]
  },
  {
   "cell_type": "code",
   "execution_count": 32,
   "id": "858effa5-6351-4b39-98f6-f344e7f60a50",
   "metadata": {},
   "outputs": [],
   "source": [
    "#17. Create a NumPy array and demonstrate the use of `numpy.view` to create a new array object with the same data."
   ]
  },
  {
   "cell_type": "code",
   "execution_count": 34,
   "id": "80daecec-8454-49d4-b9fe-e98cb5985a6d",
   "metadata": {},
   "outputs": [
    {
     "name": "stdout",
     "output_type": "stream",
     "text": [
      "Array is: [200  45  67  86  98  32]\n",
      "Array: [1000   45   67   86   98   32]\n",
      "Array with view: [1000   45   67   86   98   32]\n"
     ]
    }
   ],
   "source": [
    "l=[200,45,67,86,98,32]\n",
    "arr=np.array(l)\n",
    "print(\"Array is:\", arr)\n",
    "arr1=arr.view()\n",
    "arr1\n",
    "arr[0]=1000\n",
    "arr\n",
    "print(\"Array:\", arr)\n",
    "print(\"Array with view:\", arr1)"
   ]
  },
  {
   "cell_type": "code",
   "execution_count": 35,
   "id": "c46e132e-17cc-4b39-91aa-6682affafee3",
   "metadata": {},
   "outputs": [],
   "source": [
    "#18.Write a function that takes two NumPy arrays and concatenates them along a specified axis."
   ]
  },
  {
   "cell_type": "code",
   "execution_count": 36,
   "id": "33732485-5a97-4879-ac2a-251d6045e06d",
   "metadata": {},
   "outputs": [
    {
     "name": "stdout",
     "output_type": "stream",
     "text": [
      "Array1: [[1 3 5]\n",
      " [5 6 7]]\n",
      "Array2: [[7 5 4]\n",
      " [8 7 2]]\n",
      "Concatenated matrix is: [[1 3 5]\n",
      " [5 6 7]\n",
      " [7 5 4]\n",
      " [8 7 2]]\n"
     ]
    }
   ],
   "source": [
    "arr1=np.array([[1,3,5],[5,6,7]])\n",
    "arr2=np.array([[7,5,4],[8,7,2]])\n",
    "print(\"Array1:\", arr1)\n",
    "print(\"Array2:\", arr2)\n",
    "conc_matrix=np.concatenate((arr1,arr2),axis=0)\n",
    "print(\"Concatenated matrix is:\", conc_matrix)"
   ]
  },
  {
   "cell_type": "code",
   "execution_count": 37,
   "id": "2e5c4ece-e2b3-4381-9249-1accaf1ac0d7",
   "metadata": {},
   "outputs": [],
   "source": [
    "#19.Create two NumPy arrays with different shapes and concatenate them horizontally using `numpy.concatenate`."
   ]
  },
  {
   "cell_type": "code",
   "execution_count": 38,
   "id": "3d2dcaf8-1d6a-43e2-8165-18dfa793ada7",
   "metadata": {},
   "outputs": [
    {
     "name": "stdout",
     "output_type": "stream",
     "text": [
      "Array1: [[2 3 4]\n",
      " [5 6 7]]\n",
      "Array2: [[2 3]\n",
      " [5 6]]\n",
      "Concatenate matrix is: [[2 3 4 2 3]\n",
      " [5 6 7 5 6]]\n"
     ]
    }
   ],
   "source": [
    "arr1=np.array([[2,3,4],[5,6,7]])\n",
    "arr2=np.array([[2,3],[5,6]])\n",
    "print(\"Array1:\", arr1)\n",
    "print(\"Array2:\", arr2)\n",
    "conc_matrix=np.concatenate((arr1,arr2),axis=1)\n",
    "print(\"Concatenate matrix is:\", conc_matrix)"
   ]
  },
  {
   "cell_type": "code",
   "execution_count": 39,
   "id": "66f34c55-938e-497b-97a8-30fe13edd8e3",
   "metadata": {},
   "outputs": [],
   "source": [
    "#20. Write a function that vertically stacks multiple NumPy arrays given as a list."
   ]
  },
  {
   "cell_type": "code",
   "execution_count": 40,
   "id": "3ee9ee62-36ea-4850-8abb-96691912029e",
   "metadata": {},
   "outputs": [
    {
     "name": "stdout",
     "output_type": "stream",
     "text": [
      "[[1 2 3 4]\n",
      " [5 6 3 2]\n",
      " [6 7 8 9]\n",
      " [1 2 3 4]\n",
      " [3 6 7 8]\n",
      " [4 8 9 5]]\n"
     ]
    }
   ],
   "source": [
    "arr1=np.array([[1,2,3,4],[5,6,3,2]])\n",
    "arr2=np.array([[6,7,8,9],[1,2,3,4]])\n",
    "arr3=np.array([[3,6,7,8],[4,8,9,5]])\n",
    "stc_mat=np.vstack((arr1,arr2,arr3))\n",
    "print(stc_mat)"
   ]
  },
  {
   "cell_type": "code",
   "execution_count": 41,
   "id": "e9759810-5814-44c0-ab7e-96133774ac25",
   "metadata": {},
   "outputs": [],
   "source": [
    "#21.Write a Python function using NumPy to create an array of integers within a specified range (inclusive) with a given step size."
   ]
  },
  {
   "cell_type": "code",
   "execution_count": 42,
   "id": "c5f99f29-15ee-4353-8ce4-60793af76e2a",
   "metadata": {},
   "outputs": [
    {
     "data": {
      "text/plain": [
       "array([30, 33, 36, 39, 42, 45, 48, 51, 54, 57, 60, 63, 66, 69, 72, 75, 78])"
      ]
     },
     "execution_count": 42,
     "metadata": {},
     "output_type": "execute_result"
    }
   ],
   "source": [
    "import numpy as np\n",
    "array=np.arange(30,81,3)\n",
    "array"
   ]
  },
  {
   "cell_type": "code",
   "execution_count": 43,
   "id": "b3d8be38-c5ba-44d1-8ca9-b1275f37c664",
   "metadata": {},
   "outputs": [],
   "source": [
    "#22. Write a Python function using NumPy to generate an array of 10 equally spaced values between 0 and 1 (inclusive)."
   ]
  },
  {
   "cell_type": "code",
   "execution_count": 44,
   "id": "cfc0816d-0ecd-4945-a07e-1440e25737ec",
   "metadata": {},
   "outputs": [
    {
     "name": "stdout",
     "output_type": "stream",
     "text": [
      "[0.         0.11111111 0.22222222 0.33333333 0.44444444 0.55555556\n",
      " 0.66666667 0.77777778 0.88888889 1.        ]\n"
     ]
    }
   ],
   "source": [
    "arr1=np.linspace(0,1,10)\n",
    "print(arr1)"
   ]
  },
  {
   "cell_type": "code",
   "execution_count": 45,
   "id": "e51a071a-8250-47c7-b78a-1e55dca69436",
   "metadata": {},
   "outputs": [],
   "source": [
    "#23. Write a Python function using NumPy to create an array of 5 logarithmically spaced values between 1 and 1000 (inclusive)."
   ]
  },
  {
   "cell_type": "code",
   "execution_count": 46,
   "id": "785d3edc-a52d-426e-8751-8e00b9427b57",
   "metadata": {},
   "outputs": [
    {
     "name": "stdout",
     "output_type": "stream",
     "text": [
      "Logarithmic values b/w 1 & 1000 are: [   1.            5.62341325   31.6227766   177.827941   1000.        ]\n"
     ]
    }
   ],
   "source": [
    "import numpy as np\n",
    "def logarithmically_spaced_values():\n",
    "    return np.logspace(start=np.log10(1), stop=np.log10(1000), num=5)\n",
    "result = logarithmically_spaced_values()\n",
    "print(\"Logarithmic values b/w 1 & 1000 are:\", result)"
   ]
  },
  {
   "cell_type": "code",
   "execution_count": 47,
   "id": "7a450b85-5068-4c01-b01f-b4d922b6cdf4",
   "metadata": {},
   "outputs": [],
   "source": [
    "#24. . Create a Pandas DataFrame using a NumPy array that contains 5 rows and 3 columns, where the values are random integers between 1 and 100."
   ]
  },
  {
   "cell_type": "code",
   "execution_count": 48,
   "id": "217cec2f-4cb1-4c52-8115-fd965a7fc13b",
   "metadata": {},
   "outputs": [
    {
     "name": "stdout",
     "output_type": "stream",
     "text": [
      "data_array: [[40 35 56]\n",
      " [58 79 78]\n",
      " [59 78 33]\n",
      " [58 42 59]\n",
      " [53 83 39]]\n",
      "DataFrame:     0   1   2\n",
      "0  40  35  56\n",
      "1  58  79  78\n",
      "2  59  78  33\n",
      "3  58  42  59\n",
      "4  53  83  39\n"
     ]
    }
   ],
   "source": [
    "import pandas as pd\n",
    "data_array = np.random.randint(1,101,(5, 3))\n",
    "print(\"data_array:\", data_array)\n",
    "df=pd.DataFrame(data_array)\n",
    "print(\"DataFrame:\", df)"
   ]
  },
  {
   "cell_type": "code",
   "execution_count": 49,
   "id": "9dae271b-c19d-4312-b04e-31f781d28f10",
   "metadata": {},
   "outputs": [],
   "source": [
    "#25.Write a function that takes a Pandas DataFrame and replaces all negative values in a specific column with zeros. Use NumPy operations within the Pandas DataFrame."
   ]
  },
  {
   "cell_type": "code",
   "execution_count": 50,
   "id": "552c17d1-425b-4113-b28a-1d087fd6c870",
   "metadata": {},
   "outputs": [
    {
     "name": "stdout",
     "output_type": "stream",
     "text": [
      "DataFrame:     A    B\n",
      "0  -1   10\n",
      "1  20   20\n",
      "2 -13  130\n",
      "3   4  -40\n",
      "4  -5   50\n",
      "    A   B\n",
      "0   0   0\n",
      "1  20  20\n",
      "2   0   0\n",
      "3   4 -40\n",
      "4   0   0\n"
     ]
    }
   ],
   "source": [
    "import pandas as pd\n",
    "data = {'A': [-1, 20, -13, 4, -5],\n",
    "        'B': [10, 20, 130, -40, 50]}\n",
    "df=pd.DataFrame(data)\n",
    "print(\"DataFrame:\", df)\n",
    "df[df['A']<0]=0\n",
    "print(df)"
   ]
  },
  {
   "cell_type": "code",
   "execution_count": 51,
   "id": "510a90cc-6e07-4ecd-b462-b9dc3e315b32",
   "metadata": {},
   "outputs": [],
   "source": [
    "#26.Access the 3rd element from the given NumPy array.arr = np.array([10, 20, 30, 40, 50])"
   ]
  },
  {
   "cell_type": "code",
   "execution_count": 52,
   "id": "604838a9-0015-4825-9255-c3ad7af55bb9",
   "metadata": {},
   "outputs": [
    {
     "data": {
      "text/plain": [
       "40"
      ]
     },
     "execution_count": 52,
     "metadata": {},
     "output_type": "execute_result"
    }
   ],
   "source": [
    "arr = np.array([10, 20, 30, 40, 50])\n",
    "arr[3]"
   ]
  },
  {
   "cell_type": "code",
   "execution_count": 53,
   "id": "e6d7b268-ebca-4573-a66b-5b19c2575196",
   "metadata": {},
   "outputs": [],
   "source": [
    "#27. Retrieve the element at index (1, 2) from the 2D NumPy array."
   ]
  },
  {
   "cell_type": "code",
   "execution_count": 54,
   "id": "ecd7fb62-5d66-4be6-97ee-e147316daa79",
   "metadata": {},
   "outputs": [
    {
     "data": {
      "text/plain": [
       "array([[4, 5, 6],\n",
       "       [7, 8, 9]])"
      ]
     },
     "execution_count": 54,
     "metadata": {},
     "output_type": "execute_result"
    }
   ],
   "source": [
    "arr_2d = np.array([[1, 2, 3],\n",
    "                   [4, 5, 6],\n",
    "                   [7, 8, 9]])\n",
    "arr_2d[[1,2]]"
   ]
  },
  {
   "cell_type": "code",
   "execution_count": 55,
   "id": "465a3034-efcf-4dde-90f6-98ba921e8f85",
   "metadata": {},
   "outputs": [],
   "source": [
    "#28.Using boolean indexing, extract elements greater than 5 from the given NumPy array."
   ]
  },
  {
   "cell_type": "code",
   "execution_count": 56,
   "id": "56ca9697-c752-4e6a-ae6a-6368e2471dec",
   "metadata": {},
   "outputs": [
    {
     "name": "stdout",
     "output_type": "stream",
     "text": [
      "Elements greater than 5 are: [False  True False  True False  True]\n"
     ]
    }
   ],
   "source": [
    "arr = np.array([3, 8, 2, 10, 5, 7]) #given\n",
    "print(\"Elements greater than 5 are:\", arr>5)"
   ]
  },
  {
   "cell_type": "code",
   "execution_count": 57,
   "id": "eaca45e8-e7e9-4bdc-a052-dbbfcf11796c",
   "metadata": {},
   "outputs": [],
   "source": [
    "#29. Perform basic slicing to extract elements from index 2 to 5 (inclusive) from the given NumPy array"
   ]
  },
  {
   "cell_type": "code",
   "execution_count": 58,
   "id": "ef6bb1c8-ac50-49c7-8766-0ea9dd9689fb",
   "metadata": {},
   "outputs": [
    {
     "data": {
      "text/plain": [
       "array([3, 4, 5, 6])"
      ]
     },
     "execution_count": 58,
     "metadata": {},
     "output_type": "execute_result"
    }
   ],
   "source": [
    "arr = np.array([1, 2, 3, 4, 5, 6, 7, 8, 9]) #given\n",
    "arr[2:6]"
   ]
  },
  {
   "cell_type": "code",
   "execution_count": 59,
   "id": "c1e758f7-346f-4038-967f-072cd6f32f02",
   "metadata": {},
   "outputs": [],
   "source": [
    "#30. Slice the 2D NumPy array to extract the sub-array `[[2, 3], [5, 6]]` from the given array."
   ]
  },
  {
   "cell_type": "code",
   "execution_count": 60,
   "id": "653b6b80-cdb7-4018-adeb-b26336eec782",
   "metadata": {},
   "outputs": [],
   "source": [
    "arr_2d = np.array([[1, 2, 3],\n",
    "                   [4, 5, 6],\n",
    "                   [7, 8, 9]])"
   ]
  },
  {
   "cell_type": "code",
   "execution_count": 61,
   "id": "c28c39be-a8a8-4a7a-8dae-cd03e8ebfa1c",
   "metadata": {},
   "outputs": [
    {
     "data": {
      "text/plain": [
       "array([[2, 3],\n",
       "       [5, 6]])"
      ]
     },
     "execution_count": 61,
     "metadata": {},
     "output_type": "execute_result"
    }
   ],
   "source": [
    "arr_2d[0:2,1:3]"
   ]
  },
  {
   "cell_type": "code",
   "execution_count": 62,
   "id": "515b4c9c-34af-41d5-ab07-80c369ed1808",
   "metadata": {},
   "outputs": [],
   "source": [
    "#31.Write a NumPy function to extract elements in specific order from a given 2D array based on indices provided in another array."
   ]
  },
  {
   "cell_type": "code",
   "execution_count": 63,
   "id": "7472e24d-c3cc-4edd-99e5-36ba1bad2705",
   "metadata": {},
   "outputs": [
    {
     "name": "stdout",
     "output_type": "stream",
     "text": [
      "Extracted elements based on indices:\n",
      "[ 5  1  3 20 60 90  7 14 88]\n"
     ]
    }
   ],
   "source": [
    "def extract_elements_by_indices(arr, indices):\n",
    "    return arr[np.unravel_index(indices, arr.shape)]\n",
    "arr = np.array([[1, 20, 3],\n",
    "                [14, 5, 60],\n",
    "                [7, 88, 90]])\n",
    "\n",
    "indices = np.array([4, 0, 2, 1, 5, 8, 6, 3, 7])  # Example indices for extraction\n",
    "\n",
    "result = extract_elements_by_indices(arr, indices)\n",
    "print(\"Extracted elements based on indices:\")\n",
    "print(result)"
   ]
  },
  {
   "cell_type": "code",
   "execution_count": 64,
   "id": "b80db5a1-770e-4000-b9c5-f183f8430f67",
   "metadata": {},
   "outputs": [],
   "source": [
    "#32. Create a NumPy function that filters elements greater than a threshold from a given 1D array using boolean indexing."
   ]
  },
  {
   "cell_type": "code",
   "execution_count": 65,
   "id": "4d090d00-6b15-4778-9dec-0206bcd7794b",
   "metadata": {},
   "outputs": [
    {
     "name": "stdout",
     "output_type": "stream",
     "text": [
      "Boolean Indexing as: [False False False False False  True  True  True  True  True]\n"
     ]
    }
   ],
   "source": [
    "import numpy as np\n",
    "array1 = np.array([1, 2, 3, 4, 5, 6, 7, 8, 9, 10])\n",
    "boolean_indexing=array1>5\n",
    "print(\"Boolean Indexing as:\", boolean_indexing)"
   ]
  },
  {
   "cell_type": "code",
   "execution_count": 66,
   "id": "b67efb3e-97e3-48c0-8474-37b749783cf3",
   "metadata": {},
   "outputs": [],
   "source": [
    "#33. Develop a NumPy function that extracts specific elements from a 3D array using indices provided in three separate arrays for each dimension."
   ]
  },
  {
   "cell_type": "code",
   "execution_count": 67,
   "id": "ad15386f-aa5e-46e3-9a09-312966f2dc9f",
   "metadata": {},
   "outputs": [
    {
     "name": "stdout",
     "output_type": "stream",
     "text": [
      "Extracted elements:\n",
      "[ 6 16 20]\n"
     ]
    }
   ],
   "source": [
    "arr = np.array([[[1, 2, 3],[4, 5, 6],[7, 8, 9]],[[10, 11, 12],[13, 14, 15],[16, 17, 18]],[[19, 20, 21],[22, 23, 24],[25, 26, 27]]])\n",
    "def extract_elements(arr, indices_dim1, indices_dim2, indices_dim3):\n",
    "    return arr[indices_dim1, indices_dim2, indices_dim3]\n",
    "indices_dim1 = np.array([0, 1, 2])\n",
    "indices_dim2 = np.array([1, 2, 0])\n",
    "indices_dim3 = np.array([2, 0, 1])\n",
    "result = extract_elements(arr, indices_dim1, indices_dim2, indices_dim3)\n",
    "print(\"Extracted elements:\")\n",
    "print(result)"
   ]
  },
  {
   "cell_type": "code",
   "execution_count": 68,
   "id": "7ed946f3-6426-4acd-be09-bfb76d3718fb",
   "metadata": {},
   "outputs": [],
   "source": [
    "#34. Write a NumPy function that returns elements from an array where both two conditions are satisfied using boolean indexing."
   ]
  },
  {
   "cell_type": "code",
   "execution_count": 69,
   "id": "ee3a6cd4-b363-4f7b-b4b3-b11b844983e5",
   "metadata": {},
   "outputs": [
    {
     "name": "stdout",
     "output_type": "stream",
     "text": [
      "Elements satisfying both conditions:\n",
      "[3 4 5 6 7]\n"
     ]
    }
   ],
   "source": [
    "def elements_satisfying_conditions(arr, condition1, condition2):\n",
    "    return arr[(condition1) & (condition2)]\n",
    "arr = np.array([1, 2, 3, 4, 5, 6, 7, 8, 9, 10])\n",
    "condition1 = arr > 2\n",
    "condition2 = arr < 8\n",
    "result = elements_satisfying_conditions(arr, condition1, condition2)\n",
    "print(\"Elements satisfying both conditions:\")\n",
    "print(result)"
   ]
  },
  {
   "cell_type": "code",
   "execution_count": 70,
   "id": "3b8876ec-014b-424f-9389-3105ff22a6ec",
   "metadata": {},
   "outputs": [],
   "source": [
    "#35. Create a NumPy function that extracts elements from a 2D array using row and column indices provided in separate arrays."
   ]
  },
  {
   "cell_type": "code",
   "execution_count": 71,
   "id": "7491a2c7-9bb1-41c8-9325-82f174365c08",
   "metadata": {},
   "outputs": [
    {
     "name": "stdout",
     "output_type": "stream",
     "text": [
      "Extracted elements:\n",
      "[2 6 7]\n"
     ]
    }
   ],
   "source": [
    "def extract_elements_2d(arr, row_indices, col_indices):\n",
    "    return arr[row_indices, col_indices]\n",
    "arr = np.array([[1, 2, 3],\n",
    "                [4, 5, 6],\n",
    "                [7, 8, 9]])\n",
    "\n",
    "row_indices = np.array([0, 1, 2])\n",
    "col_indices = np.array([1, 2, 0])\n",
    "\n",
    "result = extract_elements_2d(arr, row_indices, col_indices)\n",
    "print(\"Extracted elements:\")\n",
    "print(result)"
   ]
  },
  {
   "cell_type": "code",
   "execution_count": 72,
   "id": "ebe1c7ed-5043-4132-bb91-c5efb39bcee6",
   "metadata": {},
   "outputs": [],
   "source": [
    "#36.Given an array arr of shape (3, 3), add a scalar value of 5 to each element using NumPy broadcasting."
   ]
  },
  {
   "cell_type": "code",
   "execution_count": 73,
   "id": "7f426d3b-1336-43d9-82a9-32a69740fa81",
   "metadata": {},
   "outputs": [
    {
     "data": {
      "text/plain": [
       "array([[[ 6,  7,  8],\n",
       "        [ 9, 10, 11],\n",
       "        [12, 13, 14]]])"
      ]
     },
     "execution_count": 73,
     "metadata": {},
     "output_type": "execute_result"
    }
   ],
   "source": [
    "arr=np.array([[[1,2,3],[4,5,6],[7,8,9]]])\n",
    "arr+5"
   ]
  },
  {
   "cell_type": "code",
   "execution_count": 74,
   "id": "dcc84d81-67b6-47a9-bc66-93ba99b45a22",
   "metadata": {},
   "outputs": [],
   "source": [
    "#37. Consider two arrays arr1 of shape (1, 3) and arr2 of shape (3, 4). Multiply each row of arr2 by the corresponding element in arr1 using NumPy broadcasting."
   ]
  },
  {
   "cell_type": "code",
   "execution_count": 75,
   "id": "c7e25169-b3ba-4a20-aa77-e94743c6e093",
   "metadata": {},
   "outputs": [
    {
     "name": "stdout",
     "output_type": "stream",
     "text": [
      "Array-1: [[9 8 9]]\n",
      "Array-2: [[13  4  4 19]\n",
      " [16  3  3  8]\n",
      " [15  4  3  2]]\n",
      "Matrix multiplications is: [[380  96  87 253]]\n"
     ]
    }
   ],
   "source": [
    "arr1=np.random.randint(1,10,(1,3))\n",
    "arr2=np.random.randint(1,20,(3,4))\n",
    "print(\"Array-1:\", arr1)\n",
    "print(\"Array-2:\", arr2)\n",
    "print(\"Matrix multiplications is:\", np.dot(arr1,arr2))"
   ]
  },
  {
   "cell_type": "code",
   "execution_count": 76,
   "id": "666f08b8-b118-43b2-9af0-a26b6f82ed68",
   "metadata": {},
   "outputs": [],
   "source": [
    "#38. Given a 1D array arr1 of shape (1, 4) and a 2D array arr2 of shape (4, 3), add arr1 to each row of arr2 using NumPy broadcasting"
   ]
  },
  {
   "cell_type": "code",
   "execution_count": 78,
   "id": "a5ed3873-16ad-4dee-8e3a-0689c8a851da",
   "metadata": {},
   "outputs": [
    {
     "name": "stdout",
     "output_type": "stream",
     "text": [
      "Array1: [[1 2 3 4]]\n",
      "Array2: [[ 5  6  7]\n",
      " [ 8  9 10]\n",
      " [11 12 13]\n",
      " [14 15 16]]\n",
      "Addition of matrix is: [[ 6  7  8]\n",
      " [10 11 12]\n",
      " [14 15 16]\n",
      " [18 19 20]]\n"
     ]
    }
   ],
   "source": [
    "arr1=np.array([[1, 2, 3, 4]])\n",
    "arr2=np.array([[5, 6, 7],[8, 9, 10],[11, 12, 13],[14, 15, 16]]) \n",
    "print(\"Array1:\", arr1)\n",
    "print(\"Array2:\",arr2)\n",
    "arr1.T\n",
    "Addition_matrix=arr1.T+arr2\n",
    "print(\"Addition of matrix is:\", Addition_matrix)"
   ]
  },
  {
   "cell_type": "code",
   "execution_count": 79,
   "id": "5ef0cb4f-3e08-464a-9cb9-c0e38c4ff1e9",
   "metadata": {},
   "outputs": [],
   "source": [
    "#39.Consider two arrays arr1 of shape (3, 1) and arr2 of shape (1, 3). Add these arrays using NumPy  broadcasting"
   ]
  },
  {
   "cell_type": "code",
   "execution_count": 80,
   "id": "5a6dd07e-9325-446d-b865-1b9b2caf501b",
   "metadata": {},
   "outputs": [
    {
     "name": "stdout",
     "output_type": "stream",
     "text": [
      "Array1: [[5]\n",
      " [9]\n",
      " [4]]\n",
      "Array2: [[1 1 2]]\n",
      "Addition of arrays: [[ 6  6  7]\n",
      " [10 10 11]\n",
      " [ 5  5  6]]\n"
     ]
    }
   ],
   "source": [
    "import numpy as np\n",
    "arr1=np.random.randint(1,10,(3,1))\n",
    "arr2=np.random.randint(1,10,(1,3))\n",
    "print(\"Array1:\", arr1)\n",
    "print(\"Array2:\",arr2)\n",
    "result=arr1+arr2\n",
    "print(\"Addition of arrays:\", result)"
   ]
  },
  {
   "cell_type": "code",
   "execution_count": 81,
   "id": "a878ecd5-6425-460b-ab8b-1d9e4d0fff31",
   "metadata": {},
   "outputs": [],
   "source": [
    "#40.Given arrays arr1 of shape (2, 3) and arr2 of shape (2, 2), perform multiplication using NumPy broadcasting. Handle the shape incompatibility."
   ]
  },
  {
   "cell_type": "code",
   "execution_count": 82,
   "id": "303b4002-d592-4b8d-86b1-f96deca7565d",
   "metadata": {},
   "outputs": [
    {
     "name": "stdout",
     "output_type": "stream",
     "text": [
      "Array1: [[4 1 3]\n",
      " [9 9 8]]\n",
      "Array2: [[8 3]\n",
      " [9 7]]\n",
      "Result of multiplication using broadcasting:\n",
      "Matrix multiplication is: [[[32 27]\n",
      "  [ 8 27]\n",
      "  [24 24]]\n",
      "\n",
      " [[36 63]\n",
      "  [ 9 63]\n",
      "  [27 56]]]\n"
     ]
    }
   ],
   "source": [
    "arr1=np.random.randint(1,10,(2,3))\n",
    "arr2=np.random.randint(1,10,(2,2))\n",
    "print(\"Array1:\",arr1)\n",
    "print(\"Array2:\",arr2)\n",
    "arr2_reshaped = arr2.reshape(2, 1, 2)\n",
    "result = arr1.T * arr2_reshaped\n",
    "print(\"Result of multiplication using broadcasting:\")\n",
    "print(\"Matrix multiplication is:\", result)"
   ]
  },
  {
   "cell_type": "code",
   "execution_count": 84,
   "id": "4a6da747-f183-4950-97f5-afaf4cbd6902",
   "metadata": {},
   "outputs": [],
   "source": [
    "#41. Calculate column-wise mean for the given array:\n",
    "arr = np.array([[1, 2, 3], [4, 5, 6]])"
   ]
  },
  {
   "cell_type": "code",
   "execution_count": 85,
   "id": "64776244-9169-4c3f-898c-500358853838",
   "metadata": {},
   "outputs": [
    {
     "name": "stdout",
     "output_type": "stream",
     "text": [
      "Column mean: [2.5 3.5 4.5]\n"
     ]
    }
   ],
   "source": [
    "column_mean=np.mean(arr, axis=0)\n",
    "print(\"Column mean:\", column_mean)"
   ]
  },
  {
   "cell_type": "code",
   "execution_count": 86,
   "id": "c546c03c-7004-4558-a9d0-cbc0d183f3a0",
   "metadata": {},
   "outputs": [],
   "source": [
    "#42.Find maximum value in each row of the given array:\n",
    "arr = np.array([[1, 2, 3], [4, 5, 6]])"
   ]
  },
  {
   "cell_type": "code",
   "execution_count": 87,
   "id": "81d46fc0-2c0d-4685-ba95-d2ca16f89172",
   "metadata": {},
   "outputs": [
    {
     "name": "stdout",
     "output_type": "stream",
     "text": [
      "Row wise max value: [3 6]\n"
     ]
    }
   ],
   "source": [
    "Row_maxvalue=np.max(arr, axis=1)\n",
    "print(\"Row wise max value:\", Row_maxvalue)"
   ]
  },
  {
   "cell_type": "code",
   "execution_count": 88,
   "id": "763cff6c-acba-47d8-8c04-b724ab19ba37",
   "metadata": {},
   "outputs": [],
   "source": [
    "#43.For the given array, find indices of maximum value in each column.\n",
    "arr = np.array([[1, 2, 3], [4, 5, 6]])"
   ]
  },
  {
   "cell_type": "code",
   "execution_count": 89,
   "id": "18e80f20-d4b9-4f34-9d38-587392135064",
   "metadata": {},
   "outputs": [
    {
     "name": "stdout",
     "output_type": "stream",
     "text": [
      "Indices of maximum value in each column: [1 1 1]\n"
     ]
    }
   ],
   "source": [
    "column_max_indices = np.argmax(arr, axis=0)\n",
    "print(\"Indices of maximum value in each column:\", column_max_indices)"
   ]
  },
  {
   "cell_type": "code",
   "execution_count": 90,
   "id": "9d8c1b2b-3ca8-44a9-8a6a-c8ff0f0ebc20",
   "metadata": {},
   "outputs": [],
   "source": [
    "#44.For the given array, apply custom function to calculate moving sum along rows\n",
    "arr = np.array([[1, 2, 3], [4, 5, 6]])"
   ]
  },
  {
   "cell_type": "code",
   "execution_count": 91,
   "id": "f03c791e-dc94-4197-93fc-d55c37656a7d",
   "metadata": {},
   "outputs": [
    {
     "name": "stdout",
     "output_type": "stream",
     "text": [
      "Moving sum along rows:\n",
      "[[ 1  3  6]\n",
      " [ 4  9 15]]\n"
     ]
    }
   ],
   "source": [
    "def moving_sum(row):\n",
    "    return np.cumsum(row)\n",
    "\n",
    "arr = np.array([[1, 2, 3], [4, 5, 6]])\n",
    "moving_sum_result = np.apply_along_axis(moving_sum, axis=1, arr=arr)\n",
    "print(\"Moving sum along rows:\")\n",
    "print(moving_sum_result)"
   ]
  },
  {
   "cell_type": "code",
   "execution_count": 92,
   "id": "3a908ed8-4e6d-41fd-bd49-74e98ed36192",
   "metadata": {},
   "outputs": [],
   "source": [
    "#45. In the given array, check if all elements in each column are even.\n",
    "arr = np.array([[2, 4, 6], [3, 5, 7]])"
   ]
  },
  {
   "cell_type": "code",
   "execution_count": 93,
   "id": "6a9af57c-25cb-474c-a5be-4c76d635aea0",
   "metadata": {},
   "outputs": [
    {
     "name": "stdout",
     "output_type": "stream",
     "text": [
      "[False False False]\n"
     ]
    }
   ],
   "source": [
    "arr = np.array([[2, 4, 6], [3, 5, 7]])\n",
    "are_all_even = np.all(arr % 2 == 0, axis=0)\n",
    "print(are_all_even)"
   ]
  },
  {
   "cell_type": "code",
   "execution_count": 94,
   "id": "deec4d6c-9f9c-4b48-b9e3-ffc809494e87",
   "metadata": {},
   "outputs": [],
   "source": [
    "#46. Given a NumPy array arr, reshape it into a matrix of dimensions `m` rows and `n` columns. Return the reshaped matrix.\n",
    "original_array = np.array([1, 2, 3, 4, 5, 6])"
   ]
  },
  {
   "cell_type": "code",
   "execution_count": 95,
   "id": "675a6e4e-0d12-465c-951d-e3cb31a2fb1f",
   "metadata": {},
   "outputs": [
    {
     "name": "stdout",
     "output_type": "stream",
     "text": [
      "Reshaped array: [[1 2 3]\n",
      " [4 5 6]]\n",
      "Original_array: [1 2 3 4 5 6]\n"
     ]
    }
   ],
   "source": [
    "Res_array=original_array.reshape(2,3)\n",
    "print(\"Reshaped array:\", Res_array)\n",
    "original_array1=Res_array.base\n",
    "print(\"Original_array:\", original_array1)"
   ]
  },
  {
   "cell_type": "code",
   "execution_count": 96,
   "id": "fdf6f90b-4dd7-456c-88a0-2fa93170bfa1",
   "metadata": {},
   "outputs": [],
   "source": [
    "#47. Create a function that takes a matrix as input and returns the flattened array.\n",
    "input_matrix = np.array([[1, 2, 3], [4, 5, 6]])"
   ]
  },
  {
   "cell_type": "code",
   "execution_count": 97,
   "id": "1137f456-8be9-4477-9a6b-13f4607a4888",
   "metadata": {},
   "outputs": [
    {
     "name": "stdout",
     "output_type": "stream",
     "text": [
      "Flattened matrix: [1 2 3 4 5 6]\n"
     ]
    }
   ],
   "source": [
    " print(\"Flattened matrix:\", input_matrix.flatten())"
   ]
  },
  {
   "cell_type": "code",
   "execution_count": 98,
   "id": "50a66c35-1dd3-4b08-b5db-764b31c435f5",
   "metadata": {},
   "outputs": [],
   "source": [
    "#48. Write a function that concatenates two given arrays along a specified axis.\n",
    "import numpy as np\n",
    "array1 = np.array([[1, 2], [3, 4]])\n",
    "array2 = np.array([[5, 6], [7, 8]])"
   ]
  },
  {
   "cell_type": "code",
   "execution_count": 99,
   "id": "b940b140-ec41-42e6-b7f4-d14bce54acd7",
   "metadata": {},
   "outputs": [
    {
     "name": "stdout",
     "output_type": "stream",
     "text": [
      "Concatenated arrays are: [[1 2 5 6]\n",
      " [3 4 7 8]]\n"
     ]
    }
   ],
   "source": [
    "concatenated_arrays=np.concatenate((array1,array2),axis=1)\n",
    "print(\"Concatenated arrays are:\", concatenated_arrays)"
   ]
  },
  {
   "cell_type": "code",
   "execution_count": 100,
   "id": "537bf8c7-3556-45a4-979d-421cccbf3b3b",
   "metadata": {},
   "outputs": [],
   "source": [
    "#49. Create a function that splits an array into multiple sub-arrays along a specified axis.\n",
    "original_array = np.array([[1, 2, 3], [4, 5, 6], [7, 8, 9]])"
   ]
  },
  {
   "cell_type": "code",
   "execution_count": 101,
   "id": "863634fb-0347-4118-9735-babe7f15d325",
   "metadata": {},
   "outputs": [
    {
     "name": "stdout",
     "output_type": "stream",
     "text": [
      "Split arrays along axis 0:\n",
      "[[1 2 3]]\n",
      "[[4 5 6]]\n",
      "[[7 8 9]]\n"
     ]
    }
   ],
   "source": [
    "import numpy as np\n",
    "original_array = np.array([[1, 2, 3], [4, 5, 6], [7, 8, 9]])\n",
    "split_arrays = np.split(original_array,3, axis=0)\n",
    "print(\"Split arrays along axis 0:\")\n",
    "for arr in split_arrays:\n",
    "    print(arr)"
   ]
  },
  {
   "cell_type": "code",
   "execution_count": 102,
   "id": "cb4d2459-a55b-468f-844e-b0d40d7dc8dc",
   "metadata": {},
   "outputs": [],
   "source": [
    "#50. Write a function that inserts and then deletes elements from a given array at specified indices.\n",
    "original_array = np.array([1, 2, 3, 4, 5])\n",
    "indices_to_insert = [2, 4]\n",
    "values_to_insert = [10, 11]\n",
    "indices_to_delete = [1, 3]"
   ]
  },
  {
   "cell_type": "code",
   "execution_count": 103,
   "id": "2b46bab1-a903-4a2d-87a2-72898a92ed93",
   "metadata": {},
   "outputs": [],
   "source": [
    "def insert_and_delete_elements(original_array, indices_to_insert, values_to_insert, indices_to_delete):\n",
    "    for idx, value in zip([2, 4], [10, 11]):\n",
    "        original_array = np.insert(original_array, idx, value)\n",
    "    original_array = np.delete(original_array, [1, 3])\n",
    "    return original_array"
   ]
  },
  {
   "cell_type": "code",
   "execution_count": 104,
   "id": "825ff5ae-91be-4885-879c-d0aede412103",
   "metadata": {},
   "outputs": [],
   "source": [
    "#51.  Create a NumPy array `arr1` with random integers and another array `arr2` with integers from 1 to 10. Perform element-wise addition between `arr1` and `arr2`."
   ]
  },
  {
   "cell_type": "code",
   "execution_count": 105,
   "id": "1a758d85-e3d9-483b-a782-adf65c5a71cb",
   "metadata": {},
   "outputs": [
    {
     "name": "stdout",
     "output_type": "stream",
     "text": [
      "Array1: [[11 13  6]\n",
      " [ 6  1 17]\n",
      " [13  8  2]]\n",
      "Array2: [[2 8 7]\n",
      " [1 2 4]\n",
      " [4 4 6]]\n",
      "Addition of array: [[13 21 13]\n",
      " [ 7  3 21]\n",
      " [17 12  8]]\n"
     ]
    }
   ],
   "source": [
    "arr1=np.random.randint(1,20,(3,3))\n",
    "arr2=np.random.randint(1,10,(3,3))\n",
    "print (\"Array1:\", arr1)\n",
    "print (\"Array2:\", arr2)\n",
    "print(\"Addition of array:\", np.add(arr1,arr2))"
   ]
  },
  {
   "cell_type": "code",
   "execution_count": 108,
   "id": "54e6eb4b-101a-47da-a021-fc2692b3ea9b",
   "metadata": {},
   "outputs": [],
   "source": [
    "#52. Generate a NumPy array `arr1` with sequential integers from 10 to 1 and another array `arr2` with integers from 1 to 10. Subtract `arr2` from `arr1` element-wise."
   ]
  },
  {
   "cell_type": "code",
   "execution_count": 109,
   "id": "30417812-bb92-4eab-aadf-3892c62c62fc",
   "metadata": {},
   "outputs": [
    {
     "name": "stdout",
     "output_type": "stream",
     "text": [
      "Array 1 is: [[10  9  8  7  6]\n",
      " [ 5  4  3  2  1]]\n",
      "Array 2 is: [[ 1  2  3  4  5]\n",
      " [ 6  7  8  9 10]]\n",
      "Subtracted value: [[ 9  7  5  3  1]\n",
      " [-1 -3 -5 -7 -9]]\n"
     ]
    }
   ],
   "source": [
    "arr1=np.array([[10,9,8,7,6],[5,4,3,2,1]])\n",
    "arr2=np.array([[1,2,3,4,5],[6,7,8,9,10]])\n",
    "print(\"Array 1 is:\", arr1)\n",
    "print(\"Array 2 is:\", arr2)\n",
    "sub_value=np.subtract(arr1,arr2)\n",
    "print(\"Subtracted value:\", sub_value)"
   ]
  },
  {
   "cell_type": "code",
   "execution_count": 110,
   "id": "6100eaff-78f3-428b-972f-15036ed358f2",
   "metadata": {},
   "outputs": [],
   "source": [
    "#53. Create a NumPy array arr1 with random integers and another array arr2 with integers from 1 to 5. Perform element-wise multiplication between arr1 and arr2"
   ]
  },
  {
   "cell_type": "code",
   "execution_count": 111,
   "id": "dcf6233b-dc07-40b3-9bbb-72ed7527d164",
   "metadata": {},
   "outputs": [
    {
     "name": "stdout",
     "output_type": "stream",
     "text": [
      "Array1: [8 9 7 2 7]\n",
      "Array2: [1 2 3 4 5]\n",
      "Multiplication of array: 90\n"
     ]
    }
   ],
   "source": [
    "arr1=np.array([8,9,7,2,7])\n",
    "arr2=np.array([1,2,3,4,5])\n",
    "print(\"Array1:\", arr1)\n",
    "print(\"Array2:\", arr2)\n",
    "multiplication_matrix=np.dot(arr1,arr2)\n",
    "print(\"Multiplication of array:\",multiplication_matrix)"
   ]
  },
  {
   "cell_type": "code",
   "execution_count": 112,
   "id": "30901009-8409-49f2-896b-47ef36e6b28f",
   "metadata": {},
   "outputs": [],
   "source": [
    "#54.Generate a NumPy array `arr1` with even integers from 2 to 10 and another array `arr2` with integers from 1  to 5. Perform element-wise division of `arr1` by `arr2`."
   ]
  },
  {
   "cell_type": "code",
   "execution_count": 114,
   "id": "b6ae1180-e798-47c3-85e7-839c11c3877b",
   "metadata": {},
   "outputs": [
    {
     "name": "stdout",
     "output_type": "stream",
     "text": [
      "Array1: [ 2  4  6  8 10]\n",
      "Array2: [1 2 3 4 5]\n",
      "Element wise division: [2. 2. 2. 2. 2.]\n"
     ]
    }
   ],
   "source": [
    "arr1=np.arange(2,11,2)\n",
    "arr2=np.arange(1,6,1)\n",
    "print(\"Array1:\", arr1)\n",
    "print(\"Array2:\", arr2)\n",
    "print(\"Element wise division:\", arr1/arr2)"
   ]
  },
  {
   "cell_type": "code",
   "execution_count": 115,
   "id": "aca79c08-2221-41fe-bd0b-ee062908b664",
   "metadata": {},
   "outputs": [],
   "source": [
    "#55.Create a NumPy array `arr1` with integers from 1 to 5 and another array `arr2` with the same numbers reversed. Calculate the exponentiation of `arr1` raised to the power of `arr2` element-wise."
   ]
  },
  {
   "cell_type": "code",
   "execution_count": 116,
   "id": "6e72addc-f2d9-45f6-94d1-a699b285c47a",
   "metadata": {},
   "outputs": [
    {
     "name": "stdout",
     "output_type": "stream",
     "text": [
      "Array1: [1 2 3 4 5]\n",
      "Array2: [5 4 3 2 1]\n"
     ]
    }
   ],
   "source": [
    "arr1=np.array([1,2,3,4,5])\n",
    "arr2=np.array([5,4,3,2,1])\n",
    "print(\"Array1:\", arr1)\n",
    "print(\"Array2:\", arr2)"
   ]
  },
  {
   "cell_type": "code",
   "execution_count": 117,
   "id": "12bab3da-d626-4e0e-85b1-c003ac0472c1",
   "metadata": {},
   "outputs": [
    {
     "name": "stdout",
     "output_type": "stream",
     "text": [
      "Element wise exponentiation: [ 1 16 27 16  5]\n"
     ]
    }
   ],
   "source": [
    "Exponentiation=np.power(arr1,arr2)\n",
    "print(\"Element wise exponentiation:\", Exponentiation)"
   ]
  },
  {
   "cell_type": "code",
   "execution_count": 118,
   "id": "86a1057e-8328-4e34-9dad-1d279e4077b3",
   "metadata": {},
   "outputs": [],
   "source": [
    "#56.Write a function that counts the occurrences of a specific substring within a NumPy array of strings\n",
    "arr = np.array(['hello', 'world', 'hello', 'numpy', 'hello'])"
   ]
  },
  {
   "cell_type": "code",
   "execution_count": 119,
   "id": "a9f978f6-f869-404c-a085-e733d5b623cd",
   "metadata": {},
   "outputs": [
    {
     "name": "stdout",
     "output_type": "stream",
     "text": [
      "Occurrences of substring 'hello' in the array: 3\n"
     ]
    }
   ],
   "source": [
    "arr = np.array(['hello', 'world', 'hello', 'numpy', 'hello'])\n",
    "substring = 'hello'\n",
    "def count_substring_occurrences(arr, substring):\n",
    "    count = 0\n",
    "    for string in arr:\n",
    "        count += string.count(substring)\n",
    "    return count\n",
    "occurrences = count_substring_occurrences(arr, substring)\n",
    "print(\"Occurrences of substring '{}' in the array: {}\".format(substring, occurrences))"
   ]
  },
  {
   "cell_type": "code",
   "execution_count": 120,
   "id": "adcf0bdf-d075-4903-8908-ac2e18e6af6b",
   "metadata": {},
   "outputs": [],
   "source": [
    "#57. Write a function that extracts uppercase characters from a NumPy array of strings.\n",
    "import numpy as np\n",
    "arr = np.array(['Hello', 'World', 'OpenAI', 'GPT'])"
   ]
  },
  {
   "cell_type": "code",
   "execution_count": 121,
   "id": "679998a6-7869-4507-9c9b-36b2cf73c951",
   "metadata": {},
   "outputs": [
    {
     "data": {
      "text/plain": [
       "array(['HELLO', 'WORLD', 'OPENAI', 'GPT'], dtype='<U6')"
      ]
     },
     "execution_count": 121,
     "metadata": {},
     "output_type": "execute_result"
    }
   ],
   "source": [
    "np.char.upper(arr)"
   ]
  },
  {
   "cell_type": "code",
   "execution_count": 122,
   "id": "d78f2ae6-8de5-4ef1-b0be-a119cae93ada",
   "metadata": {},
   "outputs": [],
   "source": [
    "#58.Write a function that replaces occurrences of a substring in a NumPy array of strings with a new string.\n",
    "arr = np.array(['apple', 'banana', 'grape', 'pineapple'])"
   ]
  },
  {
   "cell_type": "code",
   "execution_count": 123,
   "id": "a702e77d-00b3-4349-9483-ee4aa7a7a07e",
   "metadata": {},
   "outputs": [
    {
     "name": "stdout",
     "output_type": "stream",
     "text": [
      "['orange' 'banana' 'grape' 'pineorange']\n"
     ]
    }
   ],
   "source": [
    "arr = np.array(['apple', 'banana', 'grape', 'pineapple'])\n",
    "def replace_substring(arr, old_substring, new_substring):\n",
    "    replaced_arr = np.char.replace(arr, old_substring, new_substring)\n",
    "    return replaced_arr\n",
    "old_substring = 'apple'\n",
    "new_substring = 'orange'\n",
    "\n",
    "result = replace_substring(arr, old_substring, new_substring)\n",
    "print(result)"
   ]
  },
  {
   "cell_type": "code",
   "execution_count": 124,
   "id": "c4b06542-21c6-47ea-8492-2f2a2d170009",
   "metadata": {},
   "outputs": [],
   "source": [
    " #59. Write a function that concatenates strings in a NumPy array element-wise."
   ]
  },
  {
   "cell_type": "code",
   "execution_count": 125,
   "id": "6e62f8b5-4b51-49a3-87af-f1ec2ed18721",
   "metadata": {},
   "outputs": [],
   "source": [
    "arr1 = np.array(['Hello', 'World'])\n",
    "arr2 = np.array(['Open', 'AI']) #given"
   ]
  },
  {
   "cell_type": "code",
   "execution_count": 126,
   "id": "6a4ddae2-a6c4-4134-9381-678718af4cec",
   "metadata": {},
   "outputs": [
    {
     "name": "stdout",
     "output_type": "stream",
     "text": [
      "['Hello' 'World']\n",
      "['Open' 'AI']\n"
     ]
    }
   ],
   "source": [
    "print(arr1)\n",
    "print(arr2)\n",
    "array=np.concatenate([arr1,arr2],axis=0)"
   ]
  },
  {
   "cell_type": "code",
   "execution_count": 127,
   "id": "3c8331ac-acd7-4606-859a-61979aee1eb7",
   "metadata": {},
   "outputs": [
    {
     "data": {
      "text/plain": [
       "array(['Hello', 'World', 'Open', 'AI'], dtype='<U5')"
      ]
     },
     "execution_count": 127,
     "metadata": {},
     "output_type": "execute_result"
    }
   ],
   "source": [
    "array"
   ]
  },
  {
   "cell_type": "code",
   "execution_count": 128,
   "id": "d31ebdcb-647d-4ff2-9524-57ab4145899d",
   "metadata": {},
   "outputs": [],
   "source": [
    "#60. Write a function that finds the length of the longest string in a NumPy array.\n",
    "arr = np.array(['apple', 'banana', 'grape', 'pineapple'])"
   ]
  },
  {
   "cell_type": "code",
   "execution_count": 129,
   "id": "ac18607e-5695-4dc2-9037-7c0c1623e4f0",
   "metadata": {},
   "outputs": [
    {
     "name": "stdout",
     "output_type": "stream",
     "text": [
      "Original string: ['apple' 'banana' 'grape' 'pineapple']\n",
      "Longest string: pineapple\n"
     ]
    }
   ],
   "source": [
    "print(\"Original string:\", arr)\n",
    "res=max(arr,key=len)\n",
    "print(\"Longest string:\", res)"
   ]
  },
  {
   "cell_type": "code",
   "execution_count": 130,
   "id": "c8daa480-1bbd-4a23-a64a-26a508813d0a",
   "metadata": {},
   "outputs": [],
   "source": [
    "#61. Create a dataset of 100 random integers between 1 and 1000. Compute the mean, median, variance, and  standard deviation of the dataset using NumPy's functions."
   ]
  },
  {
   "cell_type": "code",
   "execution_count": 131,
   "id": "9d912596-b230-47b5-84d1-ea5a7fbf39e5",
   "metadata": {},
   "outputs": [
    {
     "name": "stdout",
     "output_type": "stream",
     "text": [
      "[841 763 803  84 315 113 518 234 967 990 617 360 998 437 116 672 708 361\n",
      " 711  84 366 846 241 839 859 723 912 584 390  41 899 805 213 202 492 216\n",
      " 181  68 598 992 294 854 814 222 969 902 198 235 206  94 290 938 503 551\n",
      "  99 841 541 373 593 122 148  53 580 991 215 685 612 634 662 406 769  92\n",
      " 115 322 145 172 236 861 143 276 809 112 117  39 847 344 592 803 776 904\n",
      " 834  72 850 138 672 725 542  49 282 783]\n"
     ]
    }
   ],
   "source": [
    "dataset = np.random.randint(1, 1001, size=100)\n",
    "print (dataset)"
   ]
  },
  {
   "cell_type": "code",
   "execution_count": 132,
   "id": "dfce03e5-a7c5-4aea-95c5-9ec41c74ea57",
   "metadata": {},
   "outputs": [
    {
     "name": "stdout",
     "output_type": "stream",
     "text": [
      "Mean of the dataset: 492.05\n",
      "Median of the dataset: 510.5\n",
      "Standard deviation of the dataset: 308.1843725758981\n",
      "Variance of the dataset: 94977.60749999998\n"
     ]
    }
   ],
   "source": [
    "print(\"Mean of the dataset:\", np.mean(dataset))\n",
    "print(\"Median of the dataset:\", np.median(dataset))\n",
    "print(\"Standard deviation of the dataset:\", np.std(dataset))\n",
    "print(\"Variance of the dataset:\", np.var(dataset))"
   ]
  },
  {
   "cell_type": "code",
   "execution_count": 133,
   "id": "b9a42e51-fc38-488a-97f3-452c5792daff",
   "metadata": {},
   "outputs": [],
   "source": [
    "#62.Generate an array of 50 random numbers between 1 and 100. Find the 25th and 75th percentiles of the dataset."
   ]
  },
  {
   "cell_type": "code",
   "execution_count": 134,
   "id": "c58e7fc6-348b-4503-aaa8-e9d6f0bf09ed",
   "metadata": {},
   "outputs": [
    {
     "name": "stdout",
     "output_type": "stream",
     "text": [
      "Dataset: [73 81 54 60 67 76 16 13 40 47 21 45 43 90 57 31 38  9 29 35  5 83 87 23\n",
      " 81 19 24 99 28 79 94 84 98 24 26 86 73 20 12 49 54  7 91 80 88 51 18 70\n",
      " 66 76]\n",
      "25th Percentile: 24.5\n",
      "75th Percentile: 79.75\n"
     ]
    }
   ],
   "source": [
    "dataset=np.random.randint(1,101,size=50)\n",
    "print(\"Dataset:\", dataset)\n",
    "percentile_25th = np.percentile(dataset, 25)\n",
    "percentile_75th = np.percentile(dataset, 75)\n",
    "print(\"25th Percentile:\", percentile_25th)\n",
    "print(\"75th Percentile:\", percentile_75th)"
   ]
  },
  {
   "cell_type": "code",
   "execution_count": 135,
   "id": "16dbc9ab-04ad-4f0f-81c9-55df0cbcec7b",
   "metadata": {},
   "outputs": [],
   "source": [
    "#63. Create two arrays representing two sets of variables. Compute the correlation coefficient between these arrays using NumPy's `corrcoef` function"
   ]
  },
  {
   "cell_type": "code",
   "execution_count": 136,
   "id": "dc875f2e-7bef-4482-a944-633718fec2c9",
   "metadata": {},
   "outputs": [
    {
     "name": "stdout",
     "output_type": "stream",
     "text": [
      "Correlation Coefficient: 0.9999999999999999\n"
     ]
    }
   ],
   "source": [
    "set1 = np.array([1, 2, 3, 4, 5])\n",
    "set2 = np.array([2, 4, 6, 8, 10])\n",
    "correlation_coefficient = np.corrcoef(set1, set2)[0, 1]\n",
    "\n",
    "print(\"Correlation Coefficient:\", correlation_coefficient)"
   ]
  },
  {
   "cell_type": "code",
   "execution_count": 137,
   "id": "1eb49ba8-072f-4865-a822-5f304592e0e5",
   "metadata": {},
   "outputs": [],
   "source": [
    "#64.  Create two matrices and perform matrix multiplication using NumPy's `dot` function."
   ]
  },
  {
   "cell_type": "code",
   "execution_count": 138,
   "id": "e05a7982-04ab-45c3-9b7b-ffd89c6613d6",
   "metadata": {},
   "outputs": [
    {
     "name": "stdout",
     "output_type": "stream",
     "text": [
      "Array1: [[1 2 1]\n",
      " [2 1 2]\n",
      " [1 1 2]]\n",
      "Array2: [[2 1 2]\n",
      " [2 1 2]\n",
      " [1 2 1]]\n",
      "Multiplication of matrix: [[7 5 7]\n",
      " [8 7 8]\n",
      " [6 6 6]]\n"
     ]
    }
   ],
   "source": [
    "arr1=np.random.randint(1,3,(3,3))\n",
    "arr2=np.random.randint(1,3,(3,3))\n",
    "print(\"Array1:\", arr1)\n",
    "print(\"Array2:\", arr2)\n",
    "print(\"Multiplication of matrix:\", np.dot(arr1,arr2))"
   ]
  },
  {
   "cell_type": "code",
   "execution_count": 139,
   "id": "e82ae9d8-ad78-4ea2-b339-1038eb136b8a",
   "metadata": {},
   "outputs": [],
   "source": [
    "#65. Create an array of 50 integers between 10 and 1000. Calculate the 10th, 50th (median), and 90th percentiles along with the first and third quartiles"
   ]
  },
  {
   "cell_type": "code",
   "execution_count": 192,
   "id": "34c89463-10e9-4fc9-9992-acc7574321cc",
   "metadata": {},
   "outputs": [
    {
     "name": "stdout",
     "output_type": "stream",
     "text": [
      "Dataset: [909 482 460 391 623 649 121 589 287 754 670 605 764 651 527 517 296 282\n",
      " 969 234 101 496 691 567 515 556 855 379 852 120 870 429 598 202 822  25\n",
      " 758 445 130 197 204 792 403 493  72 404 164  92 388 102]\n"
     ]
    }
   ],
   "source": [
    "import numpy as np\n",
    "dataset=np.random.randint(10,1001,size=50)\n",
    "print(\"Dataset:\", dataset)"
   ]
  },
  {
   "cell_type": "code",
   "execution_count": 193,
   "id": "7c0d2ee7-c4b8-4f1e-b76a-a7d4dafe0d5c",
   "metadata": {},
   "outputs": [
    {
     "name": "stdout",
     "output_type": "stream",
     "text": [
      "10th percentile: 1.2\n",
      "25th percentile (first quartile): 1.5\n",
      "Median (50th percentile): 2.0\n",
      "75th percentile (third quartile): 2.5\n",
      "90th percentile: 2.8\n"
     ]
    }
   ],
   "source": [
    "percentiles = np.percentile(arr, [10, 25, 50, 75, 90])\n",
    "print(\"10th percentile:\", percentiles[0])\n",
    "print(\"25th percentile (first quartile):\", percentiles[1])\n",
    "print(\"Median (50th percentile):\", percentiles[2])\n",
    "print(\"75th percentile (third quartile):\", percentiles[3])\n",
    "print(\"90th percentile:\", percentiles[4])"
   ]
  },
  {
   "cell_type": "code",
   "execution_count": 147,
   "id": "6935bca2-01ca-4a7f-bb32-048cf6f4d8da",
   "metadata": {},
   "outputs": [],
   "source": [
    "#66. Create a NumPy array of integers and find the index of a specific element."
   ]
  },
  {
   "cell_type": "code",
   "execution_count": 148,
   "id": "6d1c35ab-8500-4050-93f5-0ef84d444c40",
   "metadata": {},
   "outputs": [
    {
     "name": "stdout",
     "output_type": "stream",
     "text": [
      "Array: [ 5  1 52 41 23  8  7]\n",
      "Index of 41 : [3]\n"
     ]
    }
   ],
   "source": [
    "arr=np.array([5,1,52,41,23,8,7])\n",
    "element_to_find=41\n",
    "index = np.where(arr == element_to_find)\n",
    "print(\"Array:\", arr)\n",
    "print(\"Index of\", element_to_find, \":\", index[0])"
   ]
  },
  {
   "cell_type": "code",
   "execution_count": 149,
   "id": "26392d16-1869-41c8-9547-ee0d65784769",
   "metadata": {},
   "outputs": [],
   "source": [
    "#67. Generate a random NumPy array and sort it in ascending order."
   ]
  },
  {
   "cell_type": "code",
   "execution_count": 150,
   "id": "bed3fa53-e426-4c3d-a3b5-95f5b9658aef",
   "metadata": {},
   "outputs": [
    {
     "name": "stdout",
     "output_type": "stream",
     "text": [
      "The required array is: [[3 5 8]\n",
      " [7 2 3]]\n",
      "The sorted array is: [[3 5 8]\n",
      " [2 3 7]]\n"
     ]
    },
    {
     "data": {
      "text/plain": [
       "array([[3, 5, 8],\n",
       "       [2, 3, 7]])"
      ]
     },
     "execution_count": 150,
     "metadata": {},
     "output_type": "execute_result"
    }
   ],
   "source": [
    "array=np.random.randint(1,10,(2,3))\n",
    "print(\"The required array is:\", array)\n",
    "print(\"The sorted array is:\", np.sort(array))\n",
    "array\n",
    "np.sort(array)"
   ]
  },
  {
   "cell_type": "code",
   "execution_count": 151,
   "id": "c6fd62f8-d192-4f17-9483-d47cd53f3096",
   "metadata": {},
   "outputs": [],
   "source": [
    "#68.  Filter elements >20  in the given NumPy array.\n",
    "arr = np.array([12, 25, 6, 42, 8, 30])"
   ]
  },
  {
   "cell_type": "code",
   "execution_count": 152,
   "id": "c350c886-676c-4e79-a9b8-5b77b79b41d6",
   "metadata": {},
   "outputs": [
    {
     "data": {
      "text/plain": [
       "array([False,  True, False,  True, False,  True])"
      ]
     },
     "execution_count": 152,
     "metadata": {},
     "output_type": "execute_result"
    }
   ],
   "source": [
    "arr>20"
   ]
  },
  {
   "cell_type": "code",
   "execution_count": 153,
   "id": "6925d791-6066-4cd1-87c8-daa21e72252d",
   "metadata": {},
   "outputs": [],
   "source": [
    "#69.Filter elements which are divisible by 3 from a given NumPy array.\n",
    "arr = np.array([1, 5, 8, 12, 15])"
   ]
  },
  {
   "cell_type": "code",
   "execution_count": 154,
   "id": "ca220e5e-d61d-4aca-9a39-a0685030e450",
   "metadata": {},
   "outputs": [
    {
     "name": "stdout",
     "output_type": "stream",
     "text": [
      "Elements divisible by 3 are: [False False False  True  True]\n"
     ]
    }
   ],
   "source": [
    "print(\"Elements divisible by 3 are:\", arr%3==0)\n"
   ]
  },
  {
   "cell_type": "code",
   "execution_count": 155,
   "id": "025660d3-64be-43b2-b5b8-d5c39a8d4b55",
   "metadata": {},
   "outputs": [],
   "source": [
    "#70. Filter elements which are ≥ 20 and ≤ 40 from a given NumPy array\n",
    "import numpy as np\n",
    "arr = np.array([10, 20, 30, 40, 50])"
   ]
  },
  {
   "cell_type": "code",
   "execution_count": 156,
   "id": "b711937f-6f69-4803-be7a-ea5276fdfd8c",
   "metadata": {},
   "outputs": [
    {
     "name": "stdout",
     "output_type": "stream",
     "text": [
      "Filtered array: [20 30 40]\n"
     ]
    }
   ],
   "source": [
    "filtered_arr = arr[(arr >= 20) & (arr <= 40)]\n",
    "print(\"Filtered array:\", filtered_arr)"
   ]
  },
  {
   "cell_type": "code",
   "execution_count": 157,
   "id": "cd751f89-425d-446b-a679-c81e2d0f5d5e",
   "metadata": {},
   "outputs": [
    {
     "name": "stdout",
     "output_type": "stream",
     "text": [
      "Byte order: =\n"
     ]
    }
   ],
   "source": [
    "#71.For the given NumPy array, check its byte order using the `dtype` attribute byteorder\n",
    "import numpy as np\n",
    "arr = np.array([1, 2, 3])\n",
    "byte_order = arr.dtype.byteorder\n",
    "print(\"Byte order:\", byte_order)"
   ]
  },
  {
   "cell_type": "code",
   "execution_count": 158,
   "id": "4122b053-44e6-455d-8525-9ff1905b6a4d",
   "metadata": {},
   "outputs": [],
   "source": [
    "#72. For the given NumPy array, perform byte swapping in place using `byteswap()`.\n",
    "arr = np.array([1, 2, 3], dtype=np.int32)"
   ]
  },
  {
   "cell_type": "code",
   "execution_count": 159,
   "id": "f6087fdd-0c4d-4d85-927f-590e938c2dcb",
   "metadata": {},
   "outputs": [
    {
     "data": {
      "text/plain": [
       "array([16777216, 33554432, 50331648], dtype=int32)"
      ]
     },
     "execution_count": 159,
     "metadata": {},
     "output_type": "execute_result"
    }
   ],
   "source": [
    "arr.byteswap()"
   ]
  },
  {
   "cell_type": "code",
   "execution_count": 160,
   "id": "cce2f5ad-b1cd-4cee-85a3-3d1e8c731bc7",
   "metadata": {},
   "outputs": [],
   "source": [
    "#73.  For the given NumPy array, swap its byte order without modifying the original array using `newbyteorder()`.\n",
    "arr = np.array([1, 2, 3], dtype=np.int32)"
   ]
  },
  {
   "cell_type": "code",
   "execution_count": 161,
   "id": "9ddf4167-24ba-454c-88a2-06b18e40cb46",
   "metadata": {},
   "outputs": [
    {
     "name": "stdout",
     "output_type": "stream",
     "text": [
      "Original array: [1 2 3]\n",
      "Array with swapped byte order: [16777216 33554432 50331648]\n"
     ]
    }
   ],
   "source": [
    "arr_swapped = arr.newbyteorder()\n",
    "\n",
    "print(\"Original array:\", arr)\n",
    "print(\"Array with swapped byte order:\", arr_swapped)"
   ]
  },
  {
   "cell_type": "code",
   "execution_count": 162,
   "id": "ab706262-edf8-4d68-ad94-0429baab7feb",
   "metadata": {},
   "outputs": [],
   "source": [
    "#74. For the given NumPy array and swap its byte order conditionally based on system endianness using `newbyteorder()`.\n",
    "arr = np.array([1, 2, 3], dtype=np.int32)"
   ]
  },
  {
   "cell_type": "code",
   "execution_count": 163,
   "id": "91245172-5ed1-47b2-b4ca-866ff14cfdc9",
   "metadata": {},
   "outputs": [
    {
     "name": "stdout",
     "output_type": "stream",
     "text": [
      "Original array: [1 2 3]\n",
      "Array with swapped byte order based on system endianness: [16777216 33554432 50331648]\n"
     ]
    }
   ],
   "source": [
    "import numpy as np\n",
    "import sys\n",
    "system_byteorder = sys.byteorder\n",
    "if system_byteorder == 'little':\n",
    "    arr_swapped = arr.newbyteorder('big')\n",
    "else:\n",
    "    arr_swapped = arr.newbyteorder('little')\n",
    "\n",
    "print(\"Original array:\", arr)\n",
    "print(\"Array with swapped byte order based on system endianness:\", arr_swapped)"
   ]
  },
  {
   "cell_type": "code",
   "execution_count": 164,
   "id": "d5f474d7-4bd6-44b1-bd54-77d198ac87c4",
   "metadata": {},
   "outputs": [],
   "source": [
    "#75.  For the given NumPy array, check if byte swapping is necessary for the current system using `dtype` attribute `byteorder`.\n",
    "arr = np.array([1, 2, 3], dtype=np.int32)"
   ]
  },
  {
   "cell_type": "code",
   "execution_count": 165,
   "id": "26dd09d7-be25-47d8-93d5-ea4ea22a232d",
   "metadata": {},
   "outputs": [
    {
     "name": "stdout",
     "output_type": "stream",
     "text": [
      "Byte swapping is not necessary for current system.\n"
     ]
    }
   ],
   "source": [
    "dtype_byteorder = arr.dtype.byteorder\n",
    "system_byteorder = np.dtype(np.int32).byteorder\n",
    "byte_swapping_needed = dtype_byteorder != system_byteorder\n",
    "\n",
    "if byte_swapping_needed:\n",
    "    print(\"Byte swapping is necessary for current system.\")\n",
    "else:\n",
    "    print(\"Byte swapping is not necessary for current system.\")"
   ]
  },
  {
   "cell_type": "code",
   "execution_count": 166,
   "id": "372d1422-47eb-44fb-872e-75307fb611da",
   "metadata": {},
   "outputs": [],
   "source": [
    "#76.Create a NumPy array `arr1` with values from 1 to 10. Create a copy of `arr1` named `copy_arr` and modify an element in `copy_arr`. Check if modifying `copy_arr` affects `arr1`."
   ]
  },
  {
   "cell_type": "code",
   "execution_count": 167,
   "id": "ccac6dcd-fa11-42ba-b9f1-212d184cc88e",
   "metadata": {},
   "outputs": [
    {
     "name": "stdout",
     "output_type": "stream",
     "text": [
      "[ 1  2  3  4  5  6  7  8  9 10]\n"
     ]
    }
   ],
   "source": [
    "arr1=np.arange(1,11)\n",
    "print(arr1)"
   ]
  },
  {
   "cell_type": "code",
   "execution_count": 168,
   "id": "8f43acb1-6329-4414-a38a-6f239b813da8",
   "metadata": {},
   "outputs": [
    {
     "name": "stdout",
     "output_type": "stream",
     "text": [
      "copy_array: [ 1  2  3  4  5  6  7  8  9 10]\n"
     ]
    }
   ],
   "source": [
    "copy_arr=arr1.copy()\n",
    "print(\"copy_array:\", copy_arr)"
   ]
  },
  {
   "cell_type": "code",
   "execution_count": 169,
   "id": "9b9f6afc-5c97-4c4e-8dfa-e8b6ebbf38c9",
   "metadata": {},
   "outputs": [
    {
     "name": "stdout",
     "output_type": "stream",
     "text": [
      "Modified array: [  1   2   3   4   5 500   7   8   9  10]\n",
      "Original array: [ 1  2  3  4  5  6  7  8  9 10]\n"
     ]
    }
   ],
   "source": [
    "copy_arr[5]=500\n",
    "print(\"Modified array:\" ,copy_arr)\n",
    "print(\"Original array:\", arr1)"
   ]
  },
  {
   "cell_type": "code",
   "execution_count": 170,
   "id": "43fbf4bd-38dd-41e7-9093-ef745302cb62",
   "metadata": {},
   "outputs": [],
   "source": [
    "#77. Create a 2D NumPy array `matrix` of shape (3, 3) with random integers. Extract a slice `view_slice` from the matrix. Modify an element in `view_slice` and observe if it changes the original `matrix`."
   ]
  },
  {
   "cell_type": "code",
   "execution_count": 171,
   "id": "c60159d8-62d6-45d0-aa5c-88d85d1b5db7",
   "metadata": {},
   "outputs": [
    {
     "name": "stdout",
     "output_type": "stream",
     "text": [
      "Matrix is: [[2 1 2]\n",
      " [1 1 1]\n",
      " [1 1 2]]\n",
      "Slice matrix: [[2 1]\n",
      " [1 1]]\n",
      "Modified slice matrix: [[  2 100]\n",
      " [  1   1]]\n",
      "Original matrix: [[  2 100   2]\n",
      " [  1   1   1]\n",
      " [  1   1   2]]\n"
     ]
    }
   ],
   "source": [
    "matrix=np.random.randint(1,3,(3,3,))\n",
    "print(\"Matrix is:\", matrix)\n",
    "view_slice=matrix[0:2,0:2]\n",
    "print(\"Slice matrix:\", view_slice)\n",
    "view_slice[0][1]=100\n",
    "print(\"Modified slice matrix:\", view_slice)\n",
    "print(\"Original matrix:\", matrix)"
   ]
  },
  {
   "cell_type": "code",
   "execution_count": 172,
   "id": "3667593d-b0e6-413c-adae-56dc64f07734",
   "metadata": {},
   "outputs": [],
   "source": [
    "#78. Create a NumPy array `array_a` of shape (4, 3) with sequential integers from 1 to 12. Extract a slice view_b` from `array_a` and broadcast the addition of 5 to view_b. Check if it alters the original `array_a"
   ]
  },
  {
   "cell_type": "code",
   "execution_count": 173,
   "id": "688ee400-d13f-489f-8cfe-5ed0b0a7a3e4",
   "metadata": {},
   "outputs": [
    {
     "name": "stdout",
     "output_type": "stream",
     "text": [
      "Original array_a: [[ 1  2  3]\n",
      " [ 4  5  6]\n",
      " [ 7  8  9]\n",
      " [10 11 12]]\n",
      "view_b: [[4 5 6]]\n",
      "New array after broadcasting 5 to view_b: [[ 9 10 11]]\n",
      "Original array_a [[ 1  2  3]\n",
      " [ 4  5  6]\n",
      " [ 7  8  9]\n",
      " [10 11 12]]\n"
     ]
    }
   ],
   "source": [
    "array_a=np.array([[1,2,3],[4,5,6],[7,8,9],[10,11,12]])\n",
    "print(\"Original array_a:\", array_a)\n",
    "view_b=array_a[0:2][1:2]\n",
    "print(\"view_b:\", view_b)\n",
    "new_array=view_b+5\n",
    "print(\"New array after broadcasting 5 to view_b:\", new_array)\n",
    "print(\"Original array_a\", array_a)"
   ]
  },
  {
   "cell_type": "code",
   "execution_count": 174,
   "id": "2a249e1b-083a-4898-94ab-1ce8ad5399e3",
   "metadata": {},
   "outputs": [],
   "source": [
    "#79. Create a NumPy array `orig_array` of shape (2, 4) with values from 1 to 8. Create a reshaped view reshaped_view` of shape (4, 2) from orig_array. Modify an element in `reshaped_view` and check if it reflects changes in the original `orig_array`."
   ]
  },
  {
   "cell_type": "code",
   "execution_count": 175,
   "id": "cef80841-3064-4e03-bb2b-65cf46777560",
   "metadata": {},
   "outputs": [
    {
     "name": "stdout",
     "output_type": "stream",
     "text": [
      "Original array: [[1 2 3 4]\n",
      " [5 6 7 8]]\n",
      "Reshaped array view: [[1 2]\n",
      " [3 4]\n",
      " [5 6]\n",
      " [7 8]]\n",
      "Reshaped array view after slicing: [[   1    2]\n",
      " [   3    4]\n",
      " [   5 1000]\n",
      " [   7    8]]\n",
      "Original array: [[   1    2    3    4]\n",
      " [   5 1000    7    8]]\n"
     ]
    }
   ],
   "source": [
    "orig_array=np.array([[1,2,3,4],[5,6,7,8]])\n",
    "print(\"Original array:\", orig_array)\n",
    "d=orig_array.reshape(4,2)\n",
    "print (\"Reshaped array view:\", d)\n",
    "d[2][1]=1000\n",
    "print(\"Reshaped array view after slicing:\", d)\n",
    "print(\"Original array:\", orig_array)"
   ]
  },
  {
   "cell_type": "code",
   "execution_count": 176,
   "id": "d16b95a2-77ea-40f9-ad19-2766aefea26f",
   "metadata": {},
   "outputs": [],
   "source": [
    "#80.Create a NumPy array `data` of shape (3, 4) with random integers. Extract a copy `data_copy` of elements greater than 5. Modify an element in `data_copy` and verify if it affects the original `data`."
   ]
  },
  {
   "cell_type": "code",
   "execution_count": 177,
   "id": "8398ab69-6f60-4933-ba1b-dee9d7b985e4",
   "metadata": {},
   "outputs": [
    {
     "name": "stdout",
     "output_type": "stream",
     "text": [
      "[[ 9 14  5  6]\n",
      " [10 18  9  5]\n",
      " [14  8  7 18]]\n"
     ]
    }
   ],
   "source": [
    "data=np.random.randint(1,20,(3,4))\n",
    "print(data)"
   ]
  },
  {
   "cell_type": "code",
   "execution_count": 178,
   "id": "54cb01ae-659e-48b8-a120-198dbc6ca09d",
   "metadata": {},
   "outputs": [
    {
     "name": "stdout",
     "output_type": "stream",
     "text": [
      "[[ True  True False  True]\n",
      " [ True  True  True False]\n",
      " [ True  True  True  True]]\n"
     ]
    }
   ],
   "source": [
    "data_copy=data.copy()>5\n",
    "print(data_copy)"
   ]
  },
  {
   "cell_type": "code",
   "execution_count": 179,
   "id": "6908acd9-5d4a-4252-95d6-b13f91a2d0b7",
   "metadata": {},
   "outputs": [
    {
     "name": "stdout",
     "output_type": "stream",
     "text": [
      "Copied data data_copy: [[ True  True False  True]\n",
      " [ True  True  True False]\n",
      " [ True  True  True  True]]\n"
     ]
    }
   ],
   "source": [
    "print(\"Copied data data_copy:\", data_copy)"
   ]
  },
  {
   "cell_type": "code",
   "execution_count": 180,
   "id": "cbc6fd52-fe6d-44a4-a751-ee96e9f84bbc",
   "metadata": {},
   "outputs": [
    {
     "name": "stdout",
     "output_type": "stream",
     "text": [
      "Modified data is: [[ True  True False  True]\n",
      " [ True  True  True False]\n",
      " [ True  True  True  True]]\n",
      "Original data is: [[ 9 14  5  6]\n",
      " [10 18  9  5]\n",
      " [14  8  7 18]]\n"
     ]
    }
   ],
   "source": [
    "data_copy[1][1]=200\n",
    "print(\"Modified data is:\", data_copy)\n",
    "print(\"Original data is:\", data)"
   ]
  },
  {
   "cell_type": "code",
   "execution_count": 181,
   "id": "75aeb83a-b09f-4b2e-9ab7-9fb7be712a3c",
   "metadata": {},
   "outputs": [],
   "source": [
    "#81.Create two matrices A and B of identical shape containing integers and perform addition and subtraction operations between them."
   ]
  },
  {
   "cell_type": "code",
   "execution_count": 182,
   "id": "6d8ef47e-54ba-41ae-b6d1-4a589dd9826a",
   "metadata": {},
   "outputs": [
    {
     "name": "stdout",
     "output_type": "stream",
     "text": [
      "[[2 2 2]\n",
      " [2 1 1]\n",
      " [1 1 2]]\n",
      "[[1 2 1]\n",
      " [2 1 2]\n",
      " [1 1 1]]\n",
      "Addition of A & B: [[3 4 3]\n",
      " [4 2 3]\n",
      " [2 2 3]]\n",
      "Substraction of A & B: [[ 1  0  1]\n",
      " [ 0  0 -1]\n",
      " [ 0  0  1]]\n"
     ]
    }
   ],
   "source": [
    "A=np.random.randint(1,3,(3,3))\n",
    "B=np.random.randint(1,3,(3,3))\n",
    "print(A)\n",
    "print(B)\n",
    "print(\"Addition of A & B:\", A+B)\n",
    "print(\"Substraction of A & B:\", A-B)"
   ]
  },
  {
   "cell_type": "code",
   "execution_count": 183,
   "id": "8fc43600-3d41-409c-baff-328b0cb19745",
   "metadata": {},
   "outputs": [],
   "source": [
    "#82. Generate two matrices `C` (3x2) and `D` (2x4) and perform matrix multiplication."
   ]
  },
  {
   "cell_type": "code",
   "execution_count": 184,
   "id": "0665d0f5-7c6b-4f4e-ae2f-26923ac14ac8",
   "metadata": {},
   "outputs": [
    {
     "name": "stdout",
     "output_type": "stream",
     "text": [
      "[[2 2]\n",
      " [2 2]\n",
      " [2 2]]\n",
      "[[3 3 2 2]\n",
      " [2 3 3 3]]\n"
     ]
    },
    {
     "data": {
      "text/plain": [
       "array([[10, 12, 10, 10],\n",
       "       [10, 12, 10, 10],\n",
       "       [10, 12, 10, 10]])"
      ]
     },
     "execution_count": 184,
     "metadata": {},
     "output_type": "execute_result"
    }
   ],
   "source": [
    "C=np.random.randint(2,3,(3,2))\n",
    "D=np.random.randint(2,4,(2,4))\n",
    "print(C)\n",
    "print(D)\n",
    "np.dot(C,D)"
   ]
  },
  {
   "cell_type": "code",
   "execution_count": 185,
   "id": "60c75250-077f-4e3c-8433-bb9a92e8f546",
   "metadata": {},
   "outputs": [],
   "source": [
    " #83. Create a matrix `E` and find its transpose."
   ]
  },
  {
   "cell_type": "code",
   "execution_count": 186,
   "id": "9c4091f6-1fd9-4176-ac05-101e240105eb",
   "metadata": {},
   "outputs": [
    {
     "name": "stdout",
     "output_type": "stream",
     "text": [
      "Matrix: [[2 2 3 3]\n",
      " [3 2 3 3]]\n",
      "Transpose Matrix: [[2 3]\n",
      " [2 2]\n",
      " [3 3]\n",
      " [3 3]]\n"
     ]
    }
   ],
   "source": [
    "D=np.random.randint(2,4,(2,4))\n",
    "print (\"Matrix:\", D)\n",
    "print(\"Transpose Matrix:\", D.T)"
   ]
  },
  {
   "cell_type": "code",
   "execution_count": 187,
   "id": "40b3426f-8493-40f0-8885-d4315976d836",
   "metadata": {},
   "outputs": [],
   "source": [
    "#84.Generate a square matrix `F` and compute its determinant."
   ]
  },
  {
   "cell_type": "code",
   "execution_count": 188,
   "id": "9d81b927-1adf-4198-8dea-6c2e0155385b",
   "metadata": {},
   "outputs": [
    {
     "name": "stdout",
     "output_type": "stream",
     "text": [
      "Square matrix 'F': [[ 6  1  1]\n",
      " [ 4 -2  5]\n",
      " [ 2  8  7]]\n",
      "Determinant of matrix 'F': -306.0\n"
     ]
    }
   ],
   "source": [
    "F=np.array([[6, 1, 1],[4, -2, 5],[2, 8, 7]])\n",
    "print(\"Square matrix 'F':\", F)\n",
    "det = np.linalg.det(F)\n",
    "print(\"Determinant of matrix 'F':\", det)"
   ]
  },
  {
   "cell_type": "code",
   "execution_count": 190,
   "id": "13ba6db3-89de-4482-a5d7-cb9fa4028d0e",
   "metadata": {},
   "outputs": [],
   "source": [
    "#85.Create a square matrix `G` and find its inverse."
   ]
  },
  {
   "cell_type": "code",
   "execution_count": 191,
   "id": "4cb99263-c2cf-4104-9be3-bc6688bb87c3",
   "metadata": {},
   "outputs": [
    {
     "name": "stdout",
     "output_type": "stream",
     "text": [
      "Matrix 'G': [[ 6  1  1]\n",
      " [ 4 -2  5]\n",
      " [ 2  8  7]]\n",
      "Inverse of matrix 'G': [[ 0.17647059 -0.00326797 -0.02287582]\n",
      " [ 0.05882353 -0.13071895  0.08496732]\n",
      " [-0.11764706  0.1503268   0.05228758]]\n"
     ]
    }
   ],
   "source": [
    "G=np.array([[6, 1, 1],[4, -2, 5],[2, 8, 7]])\n",
    "print (\"Matrix 'G':\", G)\n",
    "print(\"Inverse of matrix 'G':\", np.linalg.inv(G))"
   ]
  },
  {
   "cell_type": "code",
   "execution_count": null,
   "id": "4bdd52ed-9c49-4f07-812e-4b2c071b447c",
   "metadata": {},
   "outputs": [],
   "source": []
  }
 ],
 "metadata": {
  "kernelspec": {
   "display_name": "Python 3 (ipykernel)",
   "language": "python",
   "name": "python3"
  },
  "language_info": {
   "codemirror_mode": {
    "name": "ipython",
    "version": 3
   },
   "file_extension": ".py",
   "mimetype": "text/x-python",
   "name": "python",
   "nbconvert_exporter": "python",
   "pygments_lexer": "ipython3",
   "version": "3.10.8"
  }
 },
 "nbformat": 4,
 "nbformat_minor": 5
}
